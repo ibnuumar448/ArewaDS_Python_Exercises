{
 "cells": [
  {
   "cell_type": "markdown",
   "metadata": {},
   "source": [
    "### Exercises: Level 1\n"
   ]
  },
  {
   "cell_type": "code",
   "execution_count": null,
   "metadata": {},
   "outputs": [],
   "source": [
    "## 1\n",
    "def add_two_numbers(a, b):\n",
    "    return a + b\n",
    "\n",
    "## 2\n",
    "def area_of_a_circle(r):\n",
    "    from math import pi\n",
    "    return pi * r**2\n",
    "\n",
    "\n",
    "## 3\n",
    "def add_all_nums(*n):\n",
    "    for i in n:\n",
    "        if not isinstance(i, (int, float)):\n",
    "            return \"n must be numbers\"\n",
    "    return sum(n)\n",
    "    \n",
    "\n",
    "\n",
    "## 4\n",
    "def celsius_to_fahrenheit(celsius):\n",
    "    result =  round(1.8 * celsius + 32, 2)\n",
    "    return result\n",
    "\n",
    "\n",
    "## 5\n",
    "\n",
    "import cmath\n",
    "\n",
    "def solve_quadratic(a, b, c):\n",
    "    discriminant = b**2 - 4*a*c\n",
    "    \n",
    "    solution1 = (-b + cmath.sqrt(discriminant)) / (2 * a)\n",
    "    solution2 = (-b - cmath.sqrt(discriminant)) / (2 * a)\n",
    "    \n",
    "    return solution1, solution2\n",
    "\n"
   ]
  }
 ],
 "metadata": {
  "language_info": {
   "name": "python"
  }
 },
 "nbformat": 4,
 "nbformat_minor": 2
}
