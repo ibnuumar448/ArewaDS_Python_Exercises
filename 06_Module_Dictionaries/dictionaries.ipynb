{
 "cells": [
  {
   "cell_type": "markdown",
   "metadata": {},
   "source": [
    "### Exercise module 6"
   ]
  },
  {
   "cell_type": "code",
   "execution_count": 1,
   "metadata": {},
   "outputs": [
    {
     "name": "stdout",
     "output_type": "stream",
     "text": [
      "9\n",
      "<class 'list'>\n",
      "['programing', 'writing', 'public speaking', 'teaching', 'time mangement']\n",
      "time mangement\n",
      "dict_values(['Saminu', 'Umar', 'male', 23, 'single', ['programing', 'writing', 'public speaking', 'teaching', 'time mangement'], 'Nigeria', 'Bauchi', {'street': 'Gombe main road', 'zip code': '600800'}])\n",
      "Gombe main road\n",
      "dict_items([('first_name', 'Saminu'), ('last_name', 'Umar'), ('gender', 'male'), ('age', 23), ('marital_status', 'single'), ('skills', ['programing', 'writing', 'public speaking', 'teaching', 'time mangement']), ('country', 'Nigeria'), ('city', 'Bauchi'), ('address', {'street': 'Gombe main road', 'zip code': '600800'})])\n",
      "None\n"
     ]
    },
    {
     "ename": "NameError",
     "evalue": "name 'dog' is not defined",
     "output_type": "error",
     "traceback": [
      "\u001b[1;31m---------------------------------------------------------------------------\u001b[0m",
      "\u001b[1;31mNameError\u001b[0m                                 Traceback (most recent call last)",
      "Cell \u001b[1;32mIn[1], line 44\u001b[0m\n\u001b[0;32m     40\u001b[0m \u001b[38;5;28mprint\u001b[39m(student_log\u001b[38;5;241m.\u001b[39mget(\u001b[38;5;124m\"\u001b[39m\u001b[38;5;124mage\u001b[39m\u001b[38;5;124m\"\u001b[39m))\n\u001b[0;32m     42\u001b[0m \u001b[38;5;28;01mdel\u001b[39;00m(dog)\n\u001b[1;32m---> 44\u001b[0m \u001b[38;5;28mprint\u001b[39m(dog)\n",
      "\u001b[1;31mNameError\u001b[0m: name 'dog' is not defined"
     ]
    }
   ],
   "source": [
    "dog = {\"name\": \"Bingo\",\n",
    "       \"breed\": \"German Shepherd\",\n",
    "       \"age\": 10,\n",
    "       \"legs\": 3\n",
    "}\n",
    "\n",
    "student_log = {\"first_name\": \"Saminu\",\n",
    "           \"last_name\": \"Umar\",\n",
    "           \"gender\": \"male\",\n",
    "           \"age\": 23,\n",
    "           \"marital_status\": \"single\",\n",
    "           \"skills\": [\"programing\", \"writing\", \"public speaking\", \"teaching\"],\n",
    "           \"country\": \"Nigeria\",\n",
    "           \"city\": \"Bauchi\",\n",
    "           \"address\": {\"street\": \"Gombe main road\",\n",
    "                       \"zip code\": \"600800\"\n",
    "                       }\n",
    "    \n",
    "}\n",
    "\n",
    "print(len(student_log))\n",
    "print(type(student_log[\"skills\"]))\n",
    "\n",
    "student_log[\"skills\"].append(\"time mangement\")\n",
    "\n",
    "print(student_log[\"skills\"])\n",
    "\n",
    "print(student_log[\"skills\"][4])\n",
    "keys_list = student_log.keys()\n",
    "values_list = student_log.values()\n",
    "print(values_list)\n",
    "\n",
    "print(student_log[\"address\"][\"street\"])\n",
    "\n",
    "dict_tuples = student_log.items()\n",
    "\n",
    "print(dict_tuples)\n",
    "del(student_log[\"age\"])\n",
    "\n",
    "print(student_log.get(\"age\"))\n",
    "\n",
    "del(dog)\n",
    "\n",
    "print(dog)"
   ]
  },
  {
   "cell_type": "code",
   "execution_count": null,
   "metadata": {},
   "outputs": [],
   "source": []
  }
 ],
 "metadata": {
  "kernelspec": {
   "display_name": "base",
   "language": "python",
   "name": "python3"
  },
  "language_info": {
   "codemirror_mode": {
    "name": "ipython",
    "version": 3
   },
   "file_extension": ".py",
   "mimetype": "text/x-python",
   "name": "python",
   "nbconvert_exporter": "python",
   "pygments_lexer": "ipython3",
   "version": "3.11.5"
  }
 },
 "nbformat": 4,
 "nbformat_minor": 2
}
