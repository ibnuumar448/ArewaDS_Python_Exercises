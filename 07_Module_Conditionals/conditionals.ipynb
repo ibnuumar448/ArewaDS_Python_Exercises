{
 "cells": [
  {
   "cell_type": "markdown",
   "metadata": {},
   "source": [
    "### Exercises: Level 1"
   ]
  },
  {
   "cell_type": "code",
   "execution_count": 1,
   "metadata": {},
   "outputs": [
    {
     "name": "stdout",
     "output_type": "stream",
     "text": [
      "You are old enough to drive\n"
     ]
    }
   ],
   "source": [
    "age = int(input(\"Enter your age: \"))\n",
    "if age >= 18:\n",
    "    print(\"You are old enough to drive\")\n",
    "else:\n",
    "    print(\"You need 3 more years to learn to drive\")"
   ]
  },
  {
   "cell_type": "code",
   "execution_count": null,
   "metadata": {},
   "outputs": [
    {
     "name": "stdout",
     "output_type": "stream",
     "text": [
      "We are the same age!\n"
     ]
    }
   ],
   "source": [
    "## 2\n",
    "my_age = 24\n",
    "your_age = int(input(\"Enter your age: \"))\n",
    "if your_age > my_age:\n",
    "    age_diff = your_age - my_age\n",
    "    if age_diff == 1:\n",
    "        print(\"you are 1 year older than me.\")\n",
    "    else:\n",
    "        print(f\"you are {age_diff} years older than me\")\n",
    "elif my_age == your_age:\n",
    "    print(\"We are the same age!\")\n",
    "else:\n",
    "    print(\"I am older than you\")\n",
    "    "
   ]
  },
  {
   "cell_type": "code",
   "execution_count": null,
   "metadata": {},
   "outputs": [],
   "source": [
    "a = int(input(\"Enter the first number: \"))\n",
    "b = int(input(\"Enter the second number: \"))\n",
    "if a > b:\n",
    "    print(\"a is greater than b\")\n",
    "elif a < b:\n",
    "    print(\"a is less than b\")\n",
    "else:\n",
    "    print(\"a is equal to b\")\n"
   ]
  },
  {
   "cell_type": "markdown",
   "metadata": {},
   "source": [
    "### Exercises: Level 2"
   ]
  },
  {
   "cell_type": "code",
   "execution_count": null,
   "metadata": {},
   "outputs": [
    {
     "name": "stdout",
     "output_type": "stream",
     "text": [
      "You got C!\n"
     ]
    }
   ],
   "source": [
    "score = int(input(\"Enter your score:\"))\n",
    "if score >= 80:\n",
    "    print(\"You got A!\")\n",
    "elif score >= 70 and score <= 79:\n",
    "    print(\"You got B!\")\n",
    "elif score >= 60 and score <= 69:\n",
    "    print(\"You grade C.\")\n",
    "elif score >= 50 and score <= 59:\n",
    "    print(\"You grade D.\")\n",
    "else:\n",
    "    print(\"You failed.\")"
   ]
  },
  {
   "cell_type": "code",
   "execution_count": 12,
   "metadata": {},
   "outputs": [
    {
     "name": "stdout",
     "output_type": "stream",
     "text": [
      "The season is Summer.\n"
     ]
    }
   ],
   "source": [
    "## 2\n",
    "\n",
    "month = input(\"Enter the monht here: \").title()\n",
    "if month == \"September\" or month == \"October\" or month == \"November\":\n",
    "    print(\"The season is Autumn.\")\n",
    "elif month == \"December\" or month == \"January\" or month== \"February\":\n",
    "    print(\"The season is Winter.\")\n",
    "elif month == \"May\" or month == \"March\" or month == \"April\":\n",
    "    print(\"The season is Spring.\")\n",
    "elif month == \"June\" or month == \"July\" or month== \"August\":\n",
    "    print(\"The season is Summer.\")\n",
    "else:\n",
    "    print(\"The month entered doesn't exist in Gregorian calendar.\")"
   ]
  },
  {
   "cell_type": "markdown",
   "metadata": {},
   "source": [
    "\n",
    "### Exercises: Level 3\n"
   ]
  },
  {
   "cell_type": "code",
   "execution_count": null,
   "metadata": {},
   "outputs": [
    {
     "name": "stdout",
     "output_type": "stream",
     "text": [
      "Node\n",
      "Yes python exist in skills\n",
      "He is a front end developer\n"
     ]
    }
   ],
   "source": [
    "person={\n",
    "    'first_name': 'Asabeneh',\n",
    "    'last_name': 'Yetayeh',\n",
    "    'age': 250,\n",
    "    'country': 'Finland',\n",
    "    'is_marred': True,\n",
    "    'skills': ['C##', 'React', 'Node', 'SQL', 'Python'],\n",
    "    'address': {\n",
    "        'street': 'Space street',\n",
    "        'zipcode': '02210'\n",
    "    }\n",
    "}\n",
    "## check for skills\n",
    "if \"skills\" in person:\n",
    "    print(person[\"skills\"][2])\n",
    "## check for python in skills\n",
    "if \"skills\" in person and \"Python\" in person[\"skills\"]:\n",
    "    print(\"Yes python exist in skills\")\n",
    "    \n",
    "## Developer title\n",
    "skills = person[\"skills\"]\n",
    "if \"JavaScript\" in skills:\n",
    "    if \"React\" in skills:\n",
    "        print(\"He is a front end developer\")\n",
    "elif \"Node\" in skills:\n",
    "    if \"Python\" in skills and \"MongoDB\" in skills:\n",
    "        print(\"He is a backend developer\")\n",
    "elif \"React\" in skills:\n",
    "    if \"Node\" in skills and \"MongoDB\" in skills:\n",
    "        print(\"He is a fullstack developer\")\n",
    "else:\n",
    "    print(\"Unknown title.\")\n",
    "\n",
    "    \n",
    "\n",
    "\n",
    "\n"
   ]
  },
  {
   "cell_type": "code",
   "execution_count": null,
   "metadata": {},
   "outputs": [],
   "source": []
  }
 ],
 "metadata": {
  "kernelspec": {
   "display_name": "base",
   "language": "python",
   "name": "python3"
  },
  "language_info": {
   "codemirror_mode": {
    "name": "ipython",
    "version": 3
   },
   "file_extension": ".py",
   "mimetype": "text/x-python",
   "name": "python",
   "nbconvert_exporter": "python",
   "pygments_lexer": "ipython3",
   "version": "3.11.5"
  }
 },
 "nbformat": 4,
 "nbformat_minor": 2
}
