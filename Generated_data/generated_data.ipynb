{
 "cells": [
  {
   "cell_type": "markdown",
   "metadata": {},
   "source": [
    "### Generate Data project"
   ]
  },
  {
   "cell_type": "code",
   "execution_count": null,
   "metadata": {},
   "outputs": [],
   "source": [
    "import pandas as pd\n",
    "import numpy as np\n",
    "import matplotlib.pyplot as plt\n",
    "import seaborn as sb\n",
    "\n",
    "generated_data = np.random.randint(5, 80, (20, 5))\n",
    "\n",
    "generated_data = pd.DataFrame(generated_data, columns=[\"A\", \"B\", \"C\", \"D\", \"E\"])\n",
    "generated_data.head(5)\n",
    "generated_data.info()\n",
    "generated_data.describe()\n",
    "generated_data.columns\n",
    "generated_data.drop(\"C\", axis=1)\n",
    "generated_data.tail(5)\n",
    "\n",
    "plt.plot(generated_data[\"A\"], generated_data[\"B\"])\n",
    "plt.xlabel(\"Feature A\")\n",
    "plt.ylabel(\"Feature B\")\n",
    "plt.title(\"Data visualization\")\n",
    "plt.show()\n",
    "\n",
    "plt.scatter(generated_data[\"C\"], generated_data[\"E\"], c=\"r\", marker=\"o\")\n",
    "plt.show()\n",
    "\n",
    "\n",
    "plt.bar(generated_data[\"B\"], generated_data.index, color=\"r\", width=1.5, label=\"Feature B\")\n",
    "plt.show()\n",
    "\n",
    "\n",
    "\n",
    "plt.hist(generated_data[\"D\"], bins=20, color=\"g\")\n",
    "plt.xlabel(\"Feature D\")\n",
    "plt.ylabel(\"Index\")\n",
    "plt.title(\"Data visualization using histoplot\")\n",
    "plt.show()\n",
    "\n",
    "sb.pairplot(generated_data)\n",
    "sb.PairGrid(generated_data)\n",
    "sb.scatterplot(generated_data)"
   ]
  }
 ],
 "metadata": {
  "language_info": {
   "name": "python"
  }
 },
 "nbformat": 4,
 "nbformat_minor": 2
}
