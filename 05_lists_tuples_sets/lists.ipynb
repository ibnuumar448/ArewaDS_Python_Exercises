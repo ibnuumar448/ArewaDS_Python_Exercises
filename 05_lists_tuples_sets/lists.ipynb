{
 "cells": [
  {
   "cell_type": "markdown",
   "metadata": {},
   "source": [
    "## Lists_Lesson Excercises"
   ]
  },
  {
   "cell_type": "code",
   "execution_count": null,
   "metadata": {},
   "outputs": [
    {
     "name": "stdout",
     "output_type": "stream",
     "text": [
      "5\n",
      "['Meta', 'Goggle', 'IBM', 'Microsoft', 'Amazon', 'Apple', 'Oracle']\n",
      "7\n",
      "Meta\n",
      "Microsoft\n",
      "Oracle\n",
      "['Meta', 'Goggle', 'IBM', 'Microsoft', 'Amazon', 'Apple', 'Oracle', 'Huawei']\n",
      "Meta#Goggle#IBM#Microsoft#Amazon#Apple#Oracle#Huawei\n",
      "['Oracle', 'Microsoft', 'Meta', 'IBM', 'Huawei', 'Goggle', 'Apple', 'Amazon']\n",
      "['Oracle', 'Microsoft', 'Meta']\n",
      "['Goggle', 'Apple', 'Amazon']\n",
      "['Microsoft', 'Meta', 'IBM', 'Goggle', 'Apple']\n",
      "['HTML', 'CSS', 'JS', 'React', 'Redux', 'Python', 'SQL', 'Node', 'Express', 'MongoDB']\n",
      "25 26\n"
     ]
    }
   ],
   "source": [
    "empty_list = []\n",
    "\n",
    "list1 = [\"mango\", \"orange\", \"apple\", \"lemon\", \"melon\"]\n",
    "list_length = len(list1)\n",
    "print(list_length)\n",
    "first_item = list[0]\n",
    "middle_item = list[2]\n",
    "last_item = list[4]\n",
    "\n",
    "mixed_data_types = [\"saminu\", 23, 6.5,]\n",
    "\n",
    "IT_Companies = [\"Meta\", \"Goggle\", \"IBM\", \"Microsoft\", \"Amazon\", \"Apple\", \"Oracle\"]\n",
    "\n",
    "print(IT_Companies)\n",
    "\n",
    "\n",
    "\n",
    "print(len(IT_Companies))\n",
    "\n",
    "print(IT_Companies[0])\n",
    "print(IT_Companies[3])\n",
    "print(IT_Companies[6])\n",
    "\n",
    "\n",
    "IT_Companies.append(\"Huawei\")\n",
    "\n",
    "print(IT_Companies)\n",
    "\n",
    "IT_Companies[1].upper()\n",
    "\n",
    "Joined_IT_Companies = '#'.join(IT_Companies)\n",
    "print(Joined_IT_Companies)\n",
    "\n",
    "IT_Companies.sort()\n",
    "IT_Companies.sort(reverse=True)\n",
    "\n",
    "print(IT_Companies)\n",
    "print(IT_Companies[:3])\n",
    "print(IT_Companies[5:])\n",
    "\n",
    "IT_Companies.remove(IT_Companies[0])\n",
    "IT_Companies.remove(IT_Companies[3])\n",
    "IT_Companies.remove(IT_Companies[5])\n",
    "\n",
    "print(IT_Companies)\n",
    "\n",
    "IT_Companies = []\n",
    "\n",
    "front_end = ['HTML', 'CSS', 'JS', 'React', 'Redux']\n",
    "back_end = ['Node','Express', 'MongoDB']\n",
    "\n",
    "full_stack = (front_end + back_end)\n",
    "full_stack[5:5] = [\"Python\", \"SQL\"]\n",
    "\n",
    "\n",
    "print(full_stack)\n",
    "\n",
    "\n",
    "\n",
    "\n",
    "\n",
    "\n",
    "\n"
   ]
  },
  {
   "cell_type": "code",
   "execution_count": null,
   "metadata": {},
   "outputs": [],
   "source": [
    "print\n"
   ]
  }
 ],
 "metadata": {
  "kernelspec": {
   "display_name": "base",
   "language": "python",
   "name": "python3"
  },
  "language_info": {
   "codemirror_mode": {
    "name": "ipython",
    "version": 3
   },
   "file_extension": ".py",
   "mimetype": "text/x-python",
   "name": "python",
   "nbconvert_exporter": "python",
   "pygments_lexer": "ipython3",
   "version": "3.11.5"
  }
 },
 "nbformat": 4,
 "nbformat_minor": 2
}
