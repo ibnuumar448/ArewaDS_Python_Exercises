{
 "cells": [
  {
   "cell_type": "markdown",
   "metadata": {},
   "source": [
    "## Lists_Lesson Excercises"
   ]
  },
  {
   "cell_type": "code",
   "execution_count": null,
   "metadata": {},
   "outputs": [
    {
     "name": "stdout",
     "output_type": "stream",
     "text": [
      "5\n",
      "['Meta', 'Goggle', 'IBM', 'Microsoft', 'Amazon', 'Apple', 'Oracle']\n",
      "7\n",
      "Meta\n",
      "Microsoft\n",
      "Oracle\n",
      "['Meta', 'Goggle', 'IBM', 'Microsoft', 'Amazon', 'Apple', 'Oracle', 'Huawei']\n",
      "Meta#Goggle#IBM#Microsoft#Amazon#Apple#Oracle#Huawei\n",
      "['Oracle', 'Microsoft', 'Meta', 'IBM', 'Huawei', 'Goggle', 'Apple', 'Amazon']\n",
      "['Oracle', 'Microsoft', 'Meta']\n",
      "['Goggle', 'Apple', 'Amazon']\n",
      "['Microsoft', 'Meta', 'IBM', 'Goggle', 'Apple']\n",
      "['HTML', 'CSS', 'JS', 'React', 'Redux', 'Python', 'SQL', 'Node', 'Express', 'MongoDB']\n",
      "8\n",
      "('Hafsat', 'Ameena', 'Salaha', 'Suwaibat', \"Yusha'u\", 'Musa', 'Auwal', 'Marwan')\n"
     ]
    }
   ],
   "source": [
    "empty_list = []\n",
    "\n",
    "list1 = [\"mango\", \"orange\", \"apple\", \"lemon\", \"melon\"]\n",
    "list_length = len(list1)\n",
    "print(list_length)\n",
    "first_item = list[0]\n",
    "middle_item = list[2]\n",
    "last_item = list[4]\n",
    "\n",
    "mixed_data_types = [\"saminu\", 23, 6.5,]\n",
    "\n",
    "IT_Companies = [\"Meta\", \"Goggle\", \"IBM\", \"Microsoft\", \"Amazon\", \"Apple\", \"Oracle\"]\n",
    "\n",
    "print(IT_Companies)\n",
    "\n",
    "\n",
    "\n",
    "print(len(IT_Companies))\n",
    "\n",
    "print(IT_Companies[0])\n",
    "print(IT_Companies[3])\n",
    "print(IT_Companies[6])\n",
    "\n",
    "\n",
    "IT_Companies.append(\"Huawei\")\n",
    "\n",
    "print(IT_Companies)\n",
    "\n",
    "IT_Companies[1].upper()\n",
    "\n",
    "Joined_IT_Companies = '#'.join(IT_Companies)\n",
    "print(Joined_IT_Companies)\n",
    "\n",
    "IT_Companies.sort()\n",
    "IT_Companies.sort(reverse=True)\n",
    "\n",
    "print(IT_Companies)\n",
    "print(IT_Companies[:3])\n",
    "print(IT_Companies[5:])\n",
    "\n",
    "IT_Companies.remove(IT_Companies[0])\n",
    "IT_Companies.remove(IT_Companies[3])\n",
    "IT_Companies.remove(IT_Companies[5])\n",
    "\n",
    "print(IT_Companies)\n",
    "\n",
    "IT_Companies = []\n",
    "\n",
    "front_end = ['HTML', 'CSS', 'JS', 'React', 'Redux']\n",
    "back_end = ['Node','Express', 'MongoDB']\n",
    "\n",
    "full_stack = (front_end + back_end)\n",
    "full_stack[5:5] = [\"Python\", \"SQL\"]\n",
    "\n",
    "\n",
    "print(full_stack)\n",
    "\n",
    "\n",
    "\n",
    "##Exercise2\n",
    "\n",
    "ages = [19, 22, 19, 24, 20, 25, 26, 24, 25, 24]\n",
    "ages.sort()\n",
    "x = min(ages)\n",
    "y = max(ages)\n",
    "\n",
    "\n",
    "\n",
    "##Turple Exercise....\n",
    "emp_tpl = ()\n",
    "tpl1 = (\"Hafsat\", \"Ameena\", \"Salaha\", \"Suwaibat\")\n",
    "tpl2 = (\"Yusha'u\", \"Musa\", \"Auwal\", \"Marwan\")\n",
    "\n",
    "siblings = tpl1 + tpl2\n",
    "num_siblings = len(siblings)\n"
   ]
  },
  {
   "cell_type": "markdown",
   "metadata": {},
   "source": [
    "### We can't modify tuple but we can create another tuple and add the two..."
   ]
  },
  {
   "cell_type": "code",
   "execution_count": null,
   "metadata": {},
   "outputs": [],
   "source": [
    "parents = (\"Father\", \"Mother\")\n",
    "family_members = parents + siblings\n"
   ]
  },
  {
   "cell_type": "code",
   "execution_count": 11,
   "metadata": {},
   "outputs": [
    {
     "name": "stdout",
     "output_type": "stream",
     "text": [
      "['mangp', 'apple', 'carrots', 'cabbage', 'meat', 'bomo']\n",
      "('carrots', 'cabbage')\n"
     ]
    }
   ],
   "source": [
    "#Exercise Level 2 tuple\n",
    "\n",
    "fruits = (\"mangp\", \"apple\")\n",
    "vegetables = (\"carrots\", \"cabbage\")\n",
    "animal_product = (\"meat\", \"bomo\")\n",
    "\n",
    "food_stuff_tp = fruits + vegetables + animal_product\n",
    "food_stuff_lt = list(food_stuff_tp)\n",
    "# For middle items\n",
    "n =  len(food_stuff_lt)\n",
    "if n % 2 == 0:\n",
    "    mid_itm_1 = n // 2 -1\n",
    "    mid_itm_2 = n // 2\n",
    "    middle_itms = (food_stuff_lt[mid_itm_1], food_stuff_lt[mid_itm_2])\n",
    "else:\n",
    "    mid_itm = n // 2\n",
    "    middle_itms = (food_stuff_lt[mid_itm])\n",
    "\n",
    "first_three_itms = food_stuff_lt[:4]\n",
    "last_three_itms = food_stuff_lt[-3:]\n",
    "print(food_stuff_lt)\n",
    "print(middle_itms)\n",
    "del(food_stuff_lt)\n"
   ]
  },
  {
   "cell_type": "code",
   "execution_count": null,
   "metadata": {},
   "outputs": [],
   "source": []
  }
 ],
 "metadata": {
  "kernelspec": {
   "display_name": "base",
   "language": "python",
   "name": "python3"
  },
  "language_info": {
   "codemirror_mode": {
    "name": "ipython",
    "version": 3
   },
   "file_extension": ".py",
   "mimetype": "text/x-python",
   "name": "python",
   "nbconvert_exporter": "python",
   "pygments_lexer": "ipython3",
   "version": "3.11.5"
  }
 },
 "nbformat": 4,
 "nbformat_minor": 2
}
