{
 "cells": [
  {
   "cell_type": "code",
   "execution_count": 12,
   "metadata": {},
   "outputs": [
    {
     "name": "stdout",
     "output_type": "stream",
     "text": [
      "Saminu Umar\n",
      "ABU Zaria\n",
      "<class 'str'>\n",
      "<class 'int'>\n",
      "6\n",
      "4\n",
      "2827.4333882308138\n",
      "452.3893421169302\n",
      "\n",
      "Here is a list of the Python keywords.  Enter any keyword to get more help.\n",
      "\n",
      "False               class               from                or\n",
      "None                continue            global              pass\n",
      "True                def                 if                  raise\n",
      "and                 del                 import              return\n",
      "as                  elif                in                  try\n",
      "assert              else                is                  while\n",
      "async               except              lambda              with\n",
      "await               finally             nonlocal            yield\n",
      "break               for                 not                 \n",
      "\n"
     ]
    }
   ],
   "source": [
    "##Day 2: 30 Days of python programming\n",
    "\n",
    "\n",
    "first_name = \"Saminu\"\n",
    "last_name = \"Umar\"\n",
    "full_name = f\"{first_name} {last_name}\"\n",
    "print(full_name)\n",
    "\n",
    "country = \"Nigeria\"\n",
    "City = \"Bauchi\"\n",
    "age = 23\n",
    "year = 2024\n",
    "is_true = \"yes\"\n",
    "is_light_on = \"no\"\n",
    "name, school, city = \"Saminu\", \"ABU Zaria\", \"Bauchi\"\n",
    "\n",
    "print(school)\n",
    "\n",
    "\n",
    "##Exercise level 2\n",
    "print(type(first_name))\n",
    "print(type(age))\n",
    "print(len(first_name))\n",
    "print(len(last_name))\n",
    "len(first_name) > len(last_name)\n",
    "\n",
    "num_one = 5\n",
    "num_two = 4\n",
    "total = num_one + num_two\n",
    "diff = num_one - num_two\n",
    "product = num_one * num_two\n",
    "division = num_one / num_two\n",
    "remainder = num_two / num_one\n",
    "exp = num_one**num_two\n",
    "floor_div = num_one // num_two\n",
    "\n",
    "\n",
    "from math import pi\n",
    "area_of_circle = pi *(30**2)\n",
    "print(area_of_circle)\n",
    "circum_of_circle = 2 * pi *30\n",
    "\n",
    "#radius = int(input(\"what is the radius of the circle?: \"))\n",
    "#area_of_circle2 = pi * radius**2\n",
    "#print(area_of_circle2)\n",
    "\n",
    "\n",
    "\n",
    "\n",
    "\n",
    "\n",
    "\n",
    "help('keywords')"
   ]
  },
  {
   "cell_type": "code",
   "execution_count": null,
   "metadata": {},
   "outputs": [],
   "source": []
  }
 ],
 "metadata": {
  "kernelspec": {
   "display_name": "base",
   "language": "python",
   "name": "python3"
  },
  "language_info": {
   "codemirror_mode": {
    "name": "ipython",
    "version": 3
   },
   "file_extension": ".py",
   "mimetype": "text/x-python",
   "name": "python",
   "nbconvert_exporter": "python",
   "pygments_lexer": "ipython3",
   "version": "3.11.5"
  }
 },
 "nbformat": 4,
 "nbformat_minor": 2
}
